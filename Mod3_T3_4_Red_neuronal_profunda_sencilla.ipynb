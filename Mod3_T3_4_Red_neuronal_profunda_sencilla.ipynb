{
  "nbformat": 4,
  "nbformat_minor": 0,
  "metadata": {
    "colab": {
      "name": "Mod3_T3-4_Red_neuronal_profunda_sencilla.ipynb",
      "provenance": [],
      "include_colab_link": true
    },
    "kernelspec": {
      "name": "python3",
      "display_name": "Python 3"
    }
  },
  "cells": [
    {
      "cell_type": "markdown",
      "metadata": {
        "id": "view-in-github",
        "colab_type": "text"
      },
      "source": [
        "<a href=\"https://colab.research.google.com/github/wilmerod/Curso-de-introduccion-a-Big-Data-Parte-1-nov2021/blob/main/Mod3_T3_4_Red_neuronal_profunda_sencilla.ipynb\" target=\"_parent\"><img src=\"https://colab.research.google.com/assets/colab-badge.svg\" alt=\"Open In Colab\"/></a>"
      ]
    },
    {
      "cell_type": "markdown",
      "metadata": {
        "id": "Urit4fe5C-LC"
      },
      "source": [
        "## Ejemplo básico de una red neuronal para clasificación de imágenes"
      ]
    },
    {
      "cell_type": "markdown",
      "source": [
        "## Importación de las librerías"
      ],
      "metadata": {
        "id": "TRffzBbMVVgJ"
      }
    },
    {
      "cell_type": "code",
      "metadata": {
        "id": "FwjDeDAow7w4"
      },
      "source": [
        "import numpy as np\n",
        "import matplotlib.pyplot as plt\n",
        "import tensorflow as tf\n",
        "from tensorflow import keras"
      ],
      "execution_count": null,
      "outputs": []
    },
    {
      "cell_type": "markdown",
      "metadata": {
        "id": "kbYp5-c-G4OI"
      },
      "source": [
        "## Carga de los datos\n",
        "Vamos a utilizar el propio dataset que viene precargado en Keras:\n",
        "https://keras.io/api/datasets/fashion_mnist/"
      ]
    },
    {
      "cell_type": "code",
      "metadata": {
        "id": "noqesUdTxJbd"
      },
      "source": [
        "fashion_mnist = keras.datasets.fashion_mnist\n",
        "\n",
        "(train_images, train_labels), (test_images, test_labels) = fashion_mnist.load_data()"
      ],
      "execution_count": null,
      "outputs": []
    },
    {
      "cell_type": "markdown",
      "source": [
        "## Exploración y visualización de los datos\n",
        "Utilizamos len, shape, e imshow para explorar y ver con qué estamos trabajando\n",
        "Pistas: adimensionalizar las imágenes (intensidad de tono de pixel) y crear una lista con los nombres de las clases."
      ],
      "metadata": {
        "id": "8tpM-w5cUMLu"
      }
    },
    {
      "cell_type": "code",
      "source": [
        "train_images.shape"
      ],
      "metadata": {
        "id": "gRzjDpHwkGOR",
        "colab": {
          "base_uri": "https://localhost:8080/"
        },
        "outputId": "d34a8321-15d7-42ff-e0fa-0d3e6e0f32da"
      },
      "execution_count": null,
      "outputs": [
        {
          "output_type": "execute_result",
          "data": {
            "text/plain": [
              "(60000, 28, 28)"
            ]
          },
          "metadata": {},
          "execution_count": 6
        }
      ]
    },
    {
      "cell_type": "markdown",
      "source": [
        "## Construcción del modelo\n",
        "Llamamos a la clase Sequential y usamos layers para crear las capas. Con Dense, se crean las capas de red neuronal. Utilizaremos las funciones de activación ReLu en las capas internas y Softmax en la de salida.\n",
        "\n",
        "Pista: Flatten crea una capa que reduce a 1 la dimensión del array de las imágenes"
      ],
      "metadata": {
        "id": "QbVMU6j6USqz"
      }
    },
    {
      "cell_type": "code",
      "metadata": {
        "id": "Wn6kU7MM0H-r"
      },
      "source": [
        ""
      ],
      "execution_count": null,
      "outputs": []
    },
    {
      "cell_type": "markdown",
      "source": [
        "## Parámetros del entrenamiento\n",
        "El método compile nos permite configurar el optimizador, función de coste,etc. En este caso, vamos a recurrir al optimizador Adam, y la función de coste sparse_categorical_crossentropy."
      ],
      "metadata": {
        "id": "8Re50TdSUWAo"
      }
    },
    {
      "cell_type": "code",
      "metadata": {
        "id": "wHXvVnxE1BeD"
      },
      "source": [
        ""
      ],
      "execution_count": null,
      "outputs": []
    },
    {
      "cell_type": "markdown",
      "source": [
        "## Entrenamiento del modelo\n",
        "Utilizamos la función fit para el entrenamiento de la DNN. Tenemos que pasar como argumentos los valores de entrada, los de salida (las etiquetas) y el número de iteraciones o epochs."
      ],
      "metadata": {
        "id": "Vhyc5Yi5Uf-o"
      }
    },
    {
      "cell_type": "code",
      "metadata": {
        "id": "e6uuFOjG1efc"
      },
      "source": [
        ""
      ],
      "execution_count": null,
      "outputs": []
    },
    {
      "cell_type": "markdown",
      "source": [
        "## Evaluación del modelo\n",
        "Para evaluar el modelo, recurrimos a la función evaluate y guardamos los valores que nos devuelve, el error o loss, y la precisión o accuracy."
      ],
      "metadata": {
        "id": "WtEN9nEiUkdW"
      }
    },
    {
      "cell_type": "code",
      "metadata": {
        "id": "gpUlOsvO2OuT"
      },
      "source": [
        ""
      ],
      "execution_count": null,
      "outputs": []
    },
    {
      "cell_type": "markdown",
      "metadata": {
        "id": "JkOBC5E3AzsK"
      },
      "source": [
        "## Genaración del modelo predictivo y pruebas\n",
        "Con la función predict, generamos la colección de resultados del modelo para nuevos datos de entrada, y podemos analizar su comportamiento."
      ]
    },
    {
      "cell_type": "code",
      "metadata": {
        "id": "rsIarza53Wyz"
      },
      "source": [
        ""
      ],
      "execution_count": null,
      "outputs": []
    },
    {
      "cell_type": "code",
      "source": [
        "# MIT License\n",
        "#\n",
        "# Copyright (c) 2017 François Chollet\n",
        "#\n",
        "# Permission is hereby granted, free of charge, to any person obtaining a\n",
        "# copy of this software and associated documentation files (the \"Software\"),\n",
        "# to deal in the Software without restriction, including without limitation\n",
        "# the rights to use, copy, modify, merge, publish, distribute, sublicense,\n",
        "# and/or sell copies of the Software, and to permit persons to whom the\n",
        "# Software is furnished to do so, subject to the following conditions:\n",
        "#\n",
        "# The above copyright notice and this permission notice shall be included in\n",
        "# all copies or substantial portions of the Software.\n",
        "#\n",
        "# THE SOFTWARE IS PROVIDED \"AS IS\", WITHOUT WARRANTY OF ANY KIND, EXPRESS OR\n",
        "# IMPLIED, INCLUDING BUT NOT LIMITED TO THE WARRANTIES OF MERCHANTABILITY,\n",
        "# FITNESS FOR A PARTICULAR PURPOSE AND NONINFRINGEMENT. IN NO EVENT SHALL\n",
        "# THE AUTHORS OR COPYRIGHT HOLDERS BE LIABLE FOR ANY CLAIM, DAMAGES OR OTHER\n",
        "# LIABILITY, WHETHER IN AN ACTION OF CONTRACT, TORT OR OTHERWISE, ARISING\n",
        "# FROM, OUT OF OR IN CONNECTION WITH THE SOFTWARE OR THE USE OR OTHER\n",
        "# DEALINGS IN THE SOFTWARE."
      ],
      "metadata": {
        "id": "nAUvC1iGEZ-6"
      },
      "execution_count": null,
      "outputs": []
    }
  ]
}